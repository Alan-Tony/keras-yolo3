{
 "cells": [
  {
   "cell_type": "code",
   "execution_count": 4,
   "id": "f9d298f5",
   "metadata": {},
   "outputs": [
    {
     "name": "stdout",
     "output_type": "stream",
     "text": [
      "Requirement already satisfied: wget in c:\\users\\alant\\anaconda3\\envs\\tf_env\\lib\\site-packages (3.2)\n"
     ]
    },
    {
     "name": "stderr",
     "output_type": "stream",
     "text": [
      "mkl-random 1.0.1 requires cython, which is not installed.\n",
      "notebook 5.3.1 requires terminado>=0.8.1, which is not installed.\n",
      "tensorflow-metadata 0.23.0 has requirement absl-py<0.9,>=0.7, but you'll have absl-py 0.13.0 which is incompatible.\n",
      "tensorboard 1.6.0 has requirement bleach==1.5.0, but you'll have bleach 3.3.0 which is incompatible.\n",
      "You are using pip version 10.0.1, however version 20.3.4 is available.\n",
      "You should consider upgrading via the 'python -m pip install --upgrade pip' command.\n"
     ]
    }
   ],
   "source": [
    "!pip install wget\n",
    "from wget import download"
   ]
  },
  {
   "cell_type": "code",
   "execution_count": null,
   "id": "aefdb1b1",
   "metadata": {},
   "outputs": [],
   "source": [
    "donwload('https://pjreddie.com/media/files/yolov3.weights')"
   ]
  },
  {
   "cell_type": "code",
   "execution_count": 6,
   "metadata": {},
   "outputs": [],
   "source": [
    "import cv2 as cv\n",
    "import numpy as np"
   ]
  },
  {
   "cell_type": "code",
   "execution_count": 2,
   "metadata": {},
   "outputs": [],
   "source": [
    "image = cv.imread('street.jpeg')"
   ]
  },
  {
   "cell_type": "code",
   "execution_count": 9,
   "metadata": {},
   "outputs": [
    {
     "output_type": "stream",
     "name": "stdout",
     "text": [
      "(2, 13, 236, 173)\n",
      "(235, 182, 302, 212)\n"
     ]
    }
   ],
   "source": [
    "if type(image) != np.ndarray:\n",
    "    print('Image not loaded')\n",
    "else:\n",
    "    for i in range(2):\n",
    "        bbox = cv.selectROI(image)\n",
    "        cv.destroyAllWindows()\n",
    "        print(bbox)\n",
    "    "
   ]
  },
  {
   "cell_type": "code",
   "execution_count": null,
   "metadata": {},
   "outputs": [],
   "source": []
  }
 ],
 "metadata": {
  "kernelspec": {
   "name": "python3",
   "display_name": "Python 3.5.6 64-bit ('tf_env': conda)"
  },
  "language_info": {
   "codemirror_mode": {
    "name": "ipython",
    "version": 3
   },
   "file_extension": ".py",
   "mimetype": "text/x-python",
   "name": "python",
   "nbconvert_exporter": "python",
   "pygments_lexer": "ipython3",
   "version": "3.5.6"
  },
  "interpreter": {
   "hash": "f365cfe958dbf72a8947e706e76a8a31fd784bf84da4993e0642ee0a2ebfb07b"
  }
 },
 "nbformat": 4,
 "nbformat_minor": 5
}