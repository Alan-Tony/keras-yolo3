{
 "cells": [
  {
   "cell_type": "code",
   "execution_count": 1,
   "metadata": {},
   "outputs": [],
   "source": [
    "import cv2 as cv\n",
    "import numpy as np"
   ]
  },
  {
   "cell_type": "code",
   "execution_count": 3,
   "metadata": {},
   "outputs": [],
   "source": [
    "image = cv.imread('street.jpeg')"
   ]
  },
  {
   "cell_type": "code",
   "execution_count": 5,
   "metadata": {},
   "outputs": [
    {
     "output_type": "stream",
     "name": "stdout",
     "text": [
      "(3, 27, 217, 50)\n",
      "(6, 486, 229, 50)\n"
     ]
    }
   ],
   "source": [
    "if type(image) != np.ndarray:\n",
    "    print('Image not loaded')\n",
    "else:\n",
    "    for i in range(2):\n",
    "        bbox = cv.selectROI(image)\n",
    "        cv.destroyAllWindows()\n",
    "        print(bbox)\n",
    "    "
   ]
  }
 ],
 "metadata": {
  "kernelspec": {
   "name": "python3",
   "display_name": "Python 3.5.6 64-bit ('tf_env': conda)"
  },
  "language_info": {
   "codemirror_mode": {
    "name": "ipython",
    "version": 3
   },
   "file_extension": ".py",
   "mimetype": "text/x-python",
   "name": "python",
   "nbconvert_exporter": "python",
   "pygments_lexer": "ipython3",
   "version": "3.5.6"
  },
  "interpreter": {
   "hash": "f365cfe958dbf72a8947e706e76a8a31fd784bf84da4993e0642ee0a2ebfb07b"
  }
 },
 "nbformat": 4,
 "nbformat_minor": 5
}