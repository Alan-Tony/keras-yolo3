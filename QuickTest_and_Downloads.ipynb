{
 "cells": [
  {
   "cell_type": "code",
   "execution_count": 1,
   "id": "53ad1b93",
   "metadata": {},
   "outputs": [],
   "source": [
    "import cv2 as cv\n",
    "import numpy as np"
   ]
  },
  {
   "cell_type": "code",
   "execution_count": 3,
   "id": "0c8db0df",
   "metadata": {},
   "outputs": [],
   "source": [
    "image = cv.imread('street.jpeg')"
   ]
  },
  {
   "cell_type": "code",
   "execution_count": 5,
   "id": "7907ab80",
   "metadata": {},
   "outputs": [
    {
     "name": "stdout",
     "output_type": "stream",
     "text": [
      "(3, 27, 217, 50)\n",
      "(6, 486, 229, 50)\n"
     ]
    }
   ],
   "source": [
    "if type(image) != np.ndarray:\n",
    "    print('Image not loaded')\n",
    "else:\n",
    "    for i in range(2):\n",
    "        bbox = cv.selectROI(image)\n",
    "        cv.destroyAllWindows()\n",
    "        print(bbox)\n",
    "    "
   ]
  },
  {
   "cell_type": "markdown",
   "id": "41e45786",
   "metadata": {},
   "source": [
    "## Easy OCR Test"
   ]
  },
  {
   "cell_type": "code",
   "execution_count": 1,
   "id": "5b3ba735",
   "metadata": {},
   "outputs": [],
   "source": [
    "import os\n",
    "os.environ[\"KMP_DUPLICATE_LIB_OK\"]=\"TRUE\""
   ]
  },
  {
   "cell_type": "code",
   "execution_count": 2,
   "id": "c563236e",
   "metadata": {},
   "outputs": [
    {
     "name": "stderr",
     "output_type": "stream",
     "text": [
      "CUDA not available - defaulting to CPU. Note: This module is much faster with a GPU.\n"
     ]
    }
   ],
   "source": [
    "import easyocr\n",
    "reader = easyocr.Reader(['en'])"
   ]
  },
  {
   "cell_type": "code",
   "execution_count": 3,
   "id": "0989804d",
   "metadata": {},
   "outputs": [
    {
     "name": "stderr",
     "output_type": "stream",
     "text": [
      "c:\\users\\alant\\anaconda3\\envs\\tf_env\\lib\\site-packages\\torch\\nn\\functional.py:718: UserWarning: Named tensors and all their associated APIs are an experimental feature and subject to change. Please do not use them for anything important until they are released as stable. (Triggered internally at  ..\\c10/core/TensorImpl.h:1156.)\n",
      "  return torch.max_pool2d(input, kernel_size, stride, padding, dilation, ceil_mode)\n"
     ]
    },
    {
     "data": {
      "text/plain": [
       "[([[56, 34], [86, 34], [86, 58], [56, 58]], '{Wl', 0.05927566313068004),\n",
       " ([[220, 26], [274, 26], [274, 50], [220, 50]], 'House', 0.417620167014227),\n",
       " ([[149.02202795004177, 15.163881055121184],\n",
       "   [221.9509424630693, 25.459686591269],\n",
       "   [217.97797204995823, 49.83611894487882],\n",
       "   [145.0490575369307, 39.540313408730995]],\n",
       "  'WAFFLE',\n",
       "  0.9497087700785477),\n",
       " ([[31.513411707505668, 46.6620705367551],\n",
       "   [60.476970987856255, 40.65146127195734],\n",
       "   [63.48658829249433, 58.3379294632449],\n",
       "   [34.523029012143745, 64.34853872804267]],\n",
       "  'Waie',\n",
       "  0.044804997742176056)]"
      ]
     },
     "execution_count": 3,
     "metadata": {},
     "output_type": "execute_result"
    }
   ],
   "source": [
    "reader.readtext('waffle.jpg')"
   ]
  },
  {
   "cell_type": "code",
   "execution_count": null,
   "id": "5ffe2f32",
   "metadata": {},
   "outputs": [],
   "source": []
  }
 ],
 "metadata": {
  "interpreter": {
   "hash": "f365cfe958dbf72a8947e706e76a8a31fd784bf84da4993e0642ee0a2ebfb07b"
  },
  "kernelspec": {
   "display_name": "Python 3",
   "language": "python",
   "name": "python3"
  },
  "language_info": {
   "codemirror_mode": {
    "name": "ipython",
    "version": 3
   },
   "file_extension": ".py",
   "mimetype": "text/x-python",
   "name": "python",
   "nbconvert_exporter": "python",
   "pygments_lexer": "ipython3",
   "version": "3.6.13"
  }
 },
 "nbformat": 4,
 "nbformat_minor": 5
}
