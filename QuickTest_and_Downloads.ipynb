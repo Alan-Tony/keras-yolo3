{
 "cells": [
  {
   "cell_type": "code",
   "execution_count": 4,
   "id": "f9d298f5",
   "metadata": {},
   "outputs": [
    {
     "name": "stdout",
     "output_type": "stream",
     "text": [
      "Requirement already satisfied: wget in c:\\users\\alant\\anaconda3\\envs\\tf_env\\lib\\site-packages (3.2)\n"
     ]
    },
    {
     "name": "stderr",
     "output_type": "stream",
     "text": [
      "mkl-random 1.0.1 requires cython, which is not installed.\n",
      "notebook 5.3.1 requires terminado>=0.8.1, which is not installed.\n",
      "tensorflow-metadata 0.23.0 has requirement absl-py<0.9,>=0.7, but you'll have absl-py 0.13.0 which is incompatible.\n",
      "tensorboard 1.6.0 has requirement bleach==1.5.0, but you'll have bleach 3.3.0 which is incompatible.\n",
      "You are using pip version 10.0.1, however version 20.3.4 is available.\n",
      "You should consider upgrading via the 'python -m pip install --upgrade pip' command.\n"
     ]
    }
   ],
   "source": [
    "!pip install wget\n",
    "from wget import download"
   ]
  },
  {
   "cell_type": "code",
   "execution_count": null,
   "id": "aefdb1b1",
   "metadata": {},
   "outputs": [],
   "source": [
    "donwload('https://pjreddie.com/media/files/yolov3.weights')"
   ]
  }
 ],
 "metadata": {
  "kernelspec": {
   "display_name": "Python 3",
   "language": "python",
   "name": "python3"
  },
  "language_info": {
   "codemirror_mode": {
    "name": "ipython",
    "version": 3
   },
   "file_extension": ".py",
   "mimetype": "text/x-python",
   "name": "python",
   "nbconvert_exporter": "python",
   "pygments_lexer": "ipython3",
   "version": "3.5.6"
  }
 },
 "nbformat": 4,
 "nbformat_minor": 5
}
